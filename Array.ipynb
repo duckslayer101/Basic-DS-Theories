{
  "nbformat": 4,
  "nbformat_minor": 0,
  "metadata": {
    "colab": {
      "provenance": [],
      "collapsed_sections": [
        "GHB1e5NC0NUi",
        "y3jXV80_woBA",
        "_dCxrAEIycBD"
      ],
      "authorship_tag": "ABX9TyMRaaND4gQuKN8LA+KTxIxI",
      "include_colab_link": true
    },
    "kernelspec": {
      "name": "python3",
      "display_name": "Python 3"
    },
    "language_info": {
      "name": "python"
    }
  },
  "cells": [
    {
      "cell_type": "markdown",
      "metadata": {
        "id": "view-in-github",
        "colab_type": "text"
      },
      "source": [
        "<a href=\"https://colab.research.google.com/github/duckslayer101/Basic-DS-Theories/blob/main/Array.ipynb\" target=\"_parent\"><img src=\"https://colab.research.google.com/assets/colab-badge.svg\" alt=\"Open In Colab\"/></a>"
      ]
    },
    {
      "cell_type": "markdown",
      "source": [
        "\n",
        "# ***Array***\n",
        "\n",
        "\n",
        "\n",
        "*   Array is matrix\n",
        "\n",
        "\n",
        "\n",
        "*   Homogenous (can only store one data type at a time)\n",
        "    (There is exception also)\n",
        "*   Has fixed length\n",
        "\n",
        "\n",
        "*   More efficient than list\n",
        "*   Have to import to use this library\n",
        "\n",
        "\n",
        "\n",
        "\n",
        "\n",
        "\n",
        "\n",
        "\n",
        "\n"
      ],
      "metadata": {
        "id": "GHB1e5NC0NUi"
      }
    },
    {
      "cell_type": "code",
      "execution_count": 135,
      "metadata": {
        "id": "g52o0s7xi5vD"
      },
      "outputs": [],
      "source": [
        "import numpy as np"
      ]
    },
    {
      "cell_type": "markdown",
      "source": [
        "# **Linear Array**"
      ],
      "metadata": {
        "id": "y3jXV80_woBA"
      }
    },
    {
      "cell_type": "code",
      "source": [
        "# initialization\n",
        "\n",
        "a = np.array([0]*4)\n",
        "print(a)"
      ],
      "metadata": {
        "colab": {
          "base_uri": "https://localhost:8080/"
        },
        "id": "dfWZ5UPbVHPN",
        "outputId": "cdd74f59-831f-4685-84b5-d4a4930f0691"
      },
      "execution_count": 179,
      "outputs": [
        {
          "output_type": "stream",
          "name": "stdout",
          "text": [
            "[0 0 0 0]\n"
          ]
        }
      ]
    },
    {
      "cell_type": "code",
      "source": [
        "a = np.array([1, 2, 3])\n",
        "print(a)\n",
        "\n",
        "# array's values are changable\n",
        "a[1] = 4\n",
        "print(a)"
      ],
      "metadata": {
        "id": "u07uoOO9pFI_",
        "colab": {
          "base_uri": "https://localhost:8080/"
        },
        "outputId": "d56067b4-4f06-456f-eae3-31729302ea93"
      },
      "execution_count": 136,
      "outputs": [
        {
          "output_type": "stream",
          "name": "stdout",
          "text": [
            "[1 2 3]\n",
            "[1 4 3]\n"
          ]
        }
      ]
    },
    {
      "cell_type": "code",
      "source": [
        "# empty value/ null value/ dummy value will be in right side.\n",
        "\n",
        "arr = np.array([1, 2, 3, 0])\n",
        "\n",
        "# Here 0 is a dummy value."
      ],
      "metadata": {
        "id": "1WjUjNUwM217"
      },
      "execution_count": 137,
      "outputs": []
    },
    {
      "cell_type": "code",
      "source": [
        "\"\"\"In order to put string into another array we have to use None cause\n",
        "    if we do [''] this will take the first character only. That's why\n",
        "    have to do [None] in order to take string.\n",
        "\"\"\"\n",
        "\n",
        "a = np.array(['abc', 'def'])\n",
        "b = np.array([None]*2)\n",
        "for i in range(len(a)):\n",
        "    b[i] = a[i]\n",
        "print(b)"
      ],
      "metadata": {
        "id": "f-wV1Xqt0Ii5",
        "colab": {
          "base_uri": "https://localhost:8080/"
        },
        "outputId": "3b9c7bf8-c872-40ec-d5f3-ac5d64272447"
      },
      "execution_count": 138,
      "outputs": [
        {
          "output_type": "stream",
          "name": "stdout",
          "text": [
            "['abc' 'def']\n"
          ]
        }
      ]
    },
    {
      "cell_type": "code",
      "source": [
        "# Iteration\n",
        "\n",
        "for i in a:\n",
        "  print(i)\n",
        "\n",
        "for i in range(len(a)):\n",
        "  print(a[i])"
      ],
      "metadata": {
        "id": "X05B8UyupLb9",
        "colab": {
          "base_uri": "https://localhost:8080/"
        },
        "outputId": "af8f96bc-f4b6-48da-f8a7-e70679baf8fb"
      },
      "execution_count": 139,
      "outputs": [
        {
          "output_type": "stream",
          "name": "stdout",
          "text": [
            "abc\n",
            "def\n",
            "abc\n",
            "def\n"
          ]
        }
      ]
    },
    {
      "cell_type": "code",
      "source": [
        "# Specail initilization where the values of array are treated like object\n",
        "\n",
        "a1 = np.array([None]*5)\n",
        "print(a1)\n",
        "\n",
        "a1[2] = 3\n",
        "print(a1)\n",
        "\n",
        "# Here because of None the array is actually working as a non-homogenous since it's treating the none values as object."
      ],
      "metadata": {
        "id": "93fz1IVYzlGr",
        "colab": {
          "base_uri": "https://localhost:8080/"
        },
        "outputId": "2513e3e5-5c60-4524-eeb5-02270c631199"
      },
      "execution_count": 140,
      "outputs": [
        {
          "output_type": "stream",
          "name": "stdout",
          "text": [
            "[None None None None None]\n",
            "[None None 3 None None]\n"
          ]
        }
      ]
    },
    {
      "cell_type": "code",
      "source": [
        "# array is matrix. In this addition scenario it adds like matrix addition. It doesn't add like in list.\n",
        "\n",
        "b = np.array([1, 2, 3])\n",
        "c = np.array([4, 5, 6])\n",
        "\n",
        "n = b+c\n",
        "print(n)"
      ],
      "metadata": {
        "id": "psVZgPynpTZE",
        "colab": {
          "base_uri": "https://localhost:8080/"
        },
        "outputId": "4eebcae7-92a9-41b9-db62-83d7dffe0bb0"
      },
      "execution_count": 141,
      "outputs": [
        {
          "output_type": "stream",
          "name": "stdout",
          "text": [
            "[5 7 9]\n"
          ]
        }
      ]
    },
    {
      "cell_type": "code",
      "source": [
        "# Resize. In order to resize an array, we need to create a new array with the new length and copy values from old array to the new array.\n",
        "\n",
        "arr = np.array([1, 2, 3, 4])\n",
        "new_arr = np.zeros(8, dtype=int)\n",
        "\n",
        "for i in range(len(arr)):\n",
        "  new_arr[i] = arr[i]\n",
        "print(new_arr)"
      ],
      "metadata": {
        "id": "sbLnPvscuSKb",
        "colab": {
          "base_uri": "https://localhost:8080/"
        },
        "outputId": "140fd4cb-6e55-4d4a-cfae-7dd7b9a20791"
      },
      "execution_count": 142,
      "outputs": [
        {
          "output_type": "stream",
          "name": "stdout",
          "text": [
            "[1 2 3 4 0 0 0 0]\n"
          ]
        }
      ]
    },
    {
      "cell_type": "code",
      "source": [
        "# another way of initializing\n",
        "\n",
        "arr = np.zeros(5)\n",
        "print(arr)\n",
        "\n",
        "# Here the default data type is float. It can be changed by using dtype='....'\n",
        "\n",
        "arr = np.zeros(5, dtype=str)\n",
        "print(arr)"
      ],
      "metadata": {
        "id": "tHosnGe5wmm-",
        "colab": {
          "base_uri": "https://localhost:8080/"
        },
        "outputId": "80ce47c6-c034-4663-c541-6dbd6e2478db"
      },
      "execution_count": 143,
      "outputs": [
        {
          "output_type": "stream",
          "name": "stdout",
          "text": [
            "[0. 0. 0. 0. 0.]\n",
            "['' '' '' '' '']\n"
          ]
        }
      ]
    },
    {
      "cell_type": "code",
      "source": [
        "a = np.array([1, 2, 3, 4, 5])\n",
        "print(a[-1::-1])\n",
        "\n",
        "# Reverse iteration\n",
        "\n",
        "for i in range(len(a)-1,-1,-1):\n",
        "    print(a[i])"
      ],
      "metadata": {
        "id": "f6eHNhkF1Piz",
        "colab": {
          "base_uri": "https://localhost:8080/"
        },
        "outputId": "bff77d57-bdd7-47a6-cb1a-aeeb2d6bac91"
      },
      "execution_count": 144,
      "outputs": [
        {
          "output_type": "stream",
          "name": "stdout",
          "text": [
            "[5 4 3 2 1]\n",
            "5\n",
            "4\n",
            "3\n",
            "2\n",
            "1\n"
          ]
        }
      ]
    },
    {
      "cell_type": "code",
      "source": [
        "# copy in array (pass by reference)\n",
        "\n",
        "a = np.array([1, 2, 3])\n",
        "b = a\n",
        "print(b)\n",
        "b[1] = 4\n",
        "print(a)"
      ],
      "metadata": {
        "id": "QD4_eb3g13us",
        "colab": {
          "base_uri": "https://localhost:8080/"
        },
        "outputId": "ed4da89c-2aec-4a16-b733-56c47fb37a11"
      },
      "execution_count": 145,
      "outputs": [
        {
          "output_type": "stream",
          "name": "stdout",
          "text": [
            "[1 2 3]\n",
            "[1 4 3]\n"
          ]
        }
      ]
    },
    {
      "cell_type": "code",
      "source": [
        "# deep copy (pass by value)\n",
        "\n",
        "a = np.array([1, 2, 3])\n",
        "b = a.copy()\n",
        "print(b)\n",
        "b[1] = 5\n",
        "print(a)\n",
        "print(b)"
      ],
      "metadata": {
        "id": "Wp_33mq87JHK",
        "colab": {
          "base_uri": "https://localhost:8080/"
        },
        "outputId": "72d52148-6cb4-4b0c-ced0-17865f8ef536"
      },
      "execution_count": 146,
      "outputs": [
        {
          "output_type": "stream",
          "name": "stdout",
          "text": [
            "[1 2 3]\n",
            "[1 2 3]\n",
            "[1 5 3]\n"
          ]
        }
      ]
    },
    {
      "cell_type": "code",
      "source": [
        "# left shift        [2 3 0]\n",
        "\n",
        "a = np.array([1, 2, 3])\n",
        "def left_shift(arr):\n",
        "    for i in range(len(arr)-1):\n",
        "        arr[i] = arr[i+1]\n",
        "    arr[-1] = 0\n",
        "    return arr\n",
        "\n",
        "print(left_shift(a))"
      ],
      "metadata": {
        "id": "T6Zd6Ni884sQ",
        "colab": {
          "base_uri": "https://localhost:8080/"
        },
        "outputId": "0a17f611-8514-48c1-e730-7e2fda74b18b"
      },
      "execution_count": 147,
      "outputs": [
        {
          "output_type": "stream",
          "name": "stdout",
          "text": [
            "[2 3 0]\n"
          ]
        }
      ]
    },
    {
      "cell_type": "code",
      "source": [
        "# right shift       [0 1 2]\n",
        "\n",
        "a = np.array([1, 2, 3])\n",
        "def right_shift(arr):\n",
        "    for i in range(len(arr)-1, 0, -1):\n",
        "        arr[i] = arr[i-1]\n",
        "    arr[0] = 0\n",
        "    return arr\n",
        "\n",
        "print(right_shift(a))"
      ],
      "metadata": {
        "id": "1xmnNIG7_BB1",
        "colab": {
          "base_uri": "https://localhost:8080/"
        },
        "outputId": "863fc966-53a3-4236-fdc8-8aad9b0d7ab0"
      },
      "execution_count": 148,
      "outputs": [
        {
          "output_type": "stream",
          "name": "stdout",
          "text": [
            "[0 1 2]\n"
          ]
        }
      ]
    },
    {
      "cell_type": "code",
      "source": [
        "# left rotate       [2 3 1]\n",
        "\n",
        "a = np.array([1, 2, 3])\n",
        "def left_rotate(arr):\n",
        "    temp = arr[0]\n",
        "    for i in range(len(arr)-1):\n",
        "        arr[i] = arr[i+1]\n",
        "    arr[-1] = temp\n",
        "    return arr\n",
        "\n",
        "print(left_rotate(a))"
      ],
      "metadata": {
        "id": "TfQYHnrB_1NJ",
        "colab": {
          "base_uri": "https://localhost:8080/"
        },
        "outputId": "9a889b07-4459-44d5-ef3d-631307741d1a"
      },
      "execution_count": 149,
      "outputs": [
        {
          "output_type": "stream",
          "name": "stdout",
          "text": [
            "[2 3 1]\n"
          ]
        }
      ]
    },
    {
      "cell_type": "code",
      "source": [
        "# right rotate      [3 1 2]\n",
        "\n",
        "a = np.array([1, 2, 3])\n",
        "def right_rotate(a):\n",
        "    temp = a[-1]\n",
        "    for i in range(len(a)-1, 0, -1):\n",
        "        a[i] = a[i-1]\n",
        "    a[0] = temp\n",
        "    return a\n",
        "\n",
        "print(right_rotate(a))"
      ],
      "metadata": {
        "id": "JpBPH2qODK7V",
        "colab": {
          "base_uri": "https://localhost:8080/"
        },
        "outputId": "cc724d8b-a26a-46e7-ec62-ee9e48df9ed7"
      },
      "execution_count": 150,
      "outputs": [
        {
          "output_type": "stream",
          "name": "stdout",
          "text": [
            "[3 1 2]\n"
          ]
        }
      ]
    },
    {
      "cell_type": "code",
      "source": [
        "# Reverse (out of place)\n",
        "\n",
        "a = np.array([1, 2, 3, 4, 5])\n",
        "b = np.array([0]*len(a))\n",
        "for i in range(len(b)):\n",
        "    b[i] = a[len(a)-i-1]\n",
        "print(b)"
      ],
      "metadata": {
        "id": "SGUr239uEDIJ",
        "colab": {
          "base_uri": "https://localhost:8080/"
        },
        "outputId": "75ca42c5-8e07-41ad-e56b-0a9ceab1042b"
      },
      "execution_count": 151,
      "outputs": [
        {
          "output_type": "stream",
          "name": "stdout",
          "text": [
            "[5 4 3 2 1]\n"
          ]
        }
      ]
    },
    {
      "cell_type": "code",
      "source": [
        "# Reverse (in place)\n",
        "\n",
        "a = np.array([1, 2, 3, 4, 5, 6, 7])\n",
        "def reverse_inplace(a1):\n",
        "    for i in range(len(a1)//2):\n",
        "        a1[i], a1[len(a1)-i-1] = a1[len(a1)-i-1], a1[i]\n",
        "    return a1\n",
        "\n",
        "print(reverse_inplace(a))\n",
        "print(a)"
      ],
      "metadata": {
        "id": "4VD0inVlFUvZ",
        "colab": {
          "base_uri": "https://localhost:8080/"
        },
        "outputId": "37ae948a-ab5a-4415-b527-f6cde3271cfd"
      },
      "execution_count": 152,
      "outputs": [
        {
          "output_type": "stream",
          "name": "stdout",
          "text": [
            "[7 6 5 4 3 2 1]\n",
            "[7 6 5 4 3 2 1]\n"
          ]
        }
      ]
    },
    {
      "cell_type": "code",
      "source": [
        "a = 1\n",
        "b = 2\n",
        "a, b = b, a\n",
        "print(a, b)"
      ],
      "metadata": {
        "id": "oPrypR7SJjT5",
        "colab": {
          "base_uri": "https://localhost:8080/"
        },
        "outputId": "165ed5af-06a5-4e28-ce45-85179f294311"
      },
      "execution_count": 153,
      "outputs": [
        {
          "output_type": "stream",
          "name": "stdout",
          "text": [
            "2 1\n"
          ]
        }
      ]
    },
    {
      "cell_type": "code",
      "source": [
        "# Size of array. It's the number of non-dummy values in an array. It's used in insertion and in delation\n",
        "\n",
        "a = np.zeros(5, dtype=int)\n",
        "print(a)\n",
        "a[0], a[1], a[2] = 1, 2, 3\n",
        "def non_dummies(arr, size):\n",
        "    for i in range(size):\n",
        "        print(arr[i])\n",
        "\n",
        "non_dummies(a, 3)\n",
        "print(a)"
      ],
      "metadata": {
        "id": "PCLSYXbHNgXD",
        "colab": {
          "base_uri": "https://localhost:8080/"
        },
        "outputId": "26312a39-bea3-4840-ea50-7099d7ef5a77"
      },
      "execution_count": 154,
      "outputs": [
        {
          "output_type": "stream",
          "name": "stdout",
          "text": [
            "[0 0 0 0 0]\n",
            "1\n",
            "2\n",
            "3\n",
            "[1 2 3 0 0]\n"
          ]
        }
      ]
    },
    {
      "cell_type": "code",
      "source": [
        "# insert (at the end)\n",
        "\n",
        "a = np.array([1, 2, 3, 4, 5, 6])\n",
        "def resize_array(arr, new_length):\n",
        "    a = np.zeros(new_length, dtype= int)\n",
        "    for i in range(len(arr)):\n",
        "        a[i] = arr[i]\n",
        "    return a\n",
        "\n",
        "def insert_athe_end(arr, size, value):\n",
        "    if size >= len(arr):\n",
        "        arr = resize_array(arr, len(arr)*2)\n",
        "    arr[size] = value\n",
        "    return arr\n",
        "\n",
        "\n",
        "print(insert_athe_end(a, 6, 7))"
      ],
      "metadata": {
        "id": "STsPlUm4WBF2",
        "colab": {
          "base_uri": "https://localhost:8080/"
        },
        "outputId": "0a204db1-c1f4-4150-8683-67f3a3d93dc2"
      },
      "execution_count": 155,
      "outputs": [
        {
          "output_type": "stream",
          "name": "stdout",
          "text": [
            "[1 2 3 4 5 6 7 0 0 0 0 0]\n"
          ]
        }
      ]
    },
    {
      "cell_type": "code",
      "source": [
        "a = np.array([1, 2, 3, 4])\n",
        "def insertend(a, size, elem):\n",
        "    if size >= len(a):\n",
        "        a = resize_array(a, len(a)*2)\n",
        "    a[size] = elem\n",
        "    return a\n",
        "\n",
        "print(insertend(a, 4, 5))"
      ],
      "metadata": {
        "colab": {
          "base_uri": "https://localhost:8080/"
        },
        "id": "RDUp7vWsqO55",
        "outputId": "83a7d386-ab7f-4c26-a6d1-e8e4f1d0a77e"
      },
      "execution_count": 156,
      "outputs": [
        {
          "output_type": "stream",
          "name": "stdout",
          "text": [
            "[1 2 3 4 5 0 0 0]\n"
          ]
        }
      ]
    },
    {
      "cell_type": "code",
      "source": [
        "# insert anywhere but end\n",
        "\n",
        "a =  np.array([1, 2, 3, 4, 5])\n",
        "def insert_anywhere_butend(a, size, index, elem):\n",
        "    if index<0 or index>=len(a):\n",
        "        return 'Inserting is not possible'\n",
        "    if size >= len(a):\n",
        "        a = resize_array(a, len(a)*2)\n",
        "        print(f'Resized array: {a}')\n",
        "    for i in range(len(a)-1, index, -1):\n",
        "        a[i] = a[i-1]\n",
        "    a[index] = elem\n",
        "    return a\n",
        "\n",
        "print(insert_anywhere_butend(a, size = 5, index = 2, elem = 10))"
      ],
      "metadata": {
        "colab": {
          "base_uri": "https://localhost:8080/"
        },
        "id": "mfRxY0M0tGNY",
        "outputId": "33e70dcb-7a0e-4d33-bf38-a279148a0b2d"
      },
      "execution_count": 157,
      "outputs": [
        {
          "output_type": "stream",
          "name": "stdout",
          "text": [
            "Resized array: [1 2 3 4 5 0 0 0 0 0]\n",
            "[ 1  2 10  3  4  5  0  0  0  0]\n"
          ]
        }
      ]
    },
    {
      "cell_type": "code",
      "source": [
        "a = np.array([1, 2, 3, 5, 6, 0])\n",
        "def insert_inbetween(arr, size, index, elem):\n",
        "    if index<0 or index>=len(arr):\n",
        "        return 'Not possible'\n",
        "    if size >= len(arr):\n",
        "        arr = resize_array(arr, len(arr)*2)\n",
        "    for i in range(len(arr)-1, index, -1):\n",
        "        arr[i] = arr[i-1]\n",
        "    arr[index] = elem\n",
        "    return arr\n",
        "\n",
        "print(insert_inbetween(a, 5, 3, 4))"
      ],
      "metadata": {
        "colab": {
          "base_uri": "https://localhost:8080/"
        },
        "id": "vOzLnrL9zRZ0",
        "outputId": "e24c8eb5-1ac9-4e57-fe56-b9ad907724aa"
      },
      "execution_count": 158,
      "outputs": [
        {
          "output_type": "stream",
          "name": "stdout",
          "text": [
            "[1 2 3 4 5 6]\n"
          ]
        }
      ]
    },
    {
      "cell_type": "code",
      "source": [
        "# Remove last element\n",
        "\n",
        "arr = np.array([1, 2, 3, 4])\n",
        "def rmv_last_elem(arr, size):\n",
        "    if size == 0:\n",
        "        return 'Remove isn\\'t possible'\n",
        "    arr[size-1] = 0\n",
        "    return arr\n",
        "\n",
        "print(rmv_last_elem(arr, 4))"
      ],
      "metadata": {
        "colab": {
          "base_uri": "https://localhost:8080/"
        },
        "id": "6nBM8jxA47zV",
        "outputId": "679f226c-271d-4ddf-c9a4-d379dceeb03a"
      },
      "execution_count": 159,
      "outputs": [
        {
          "output_type": "stream",
          "name": "stdout",
          "text": [
            "[1 2 3 0]\n"
          ]
        }
      ]
    },
    {
      "cell_type": "code",
      "source": [
        "arr = np.array([1,2,3,4,5,6,7,0,0,0])\n",
        "def rmvlast(arr, size):\n",
        "    if size == 0:\n",
        "        return 'Not possible'\n",
        "    arr[size-1] = 0\n",
        "    return arr\n",
        "\n",
        "print(rmvlast(arr, 7))"
      ],
      "metadata": {
        "colab": {
          "base_uri": "https://localhost:8080/"
        },
        "id": "cIVvgQfy-mwE",
        "outputId": "34a45805-bec5-48a4-dc3f-1d97040fca19"
      },
      "execution_count": 160,
      "outputs": [
        {
          "output_type": "stream",
          "name": "stdout",
          "text": [
            "[1 2 3 4 5 6 0 0 0 0]\n"
          ]
        }
      ]
    },
    {
      "cell_type": "code",
      "source": [
        "# Remove any other but last elem\n",
        "\n",
        "def elem_inbetween(arr, size, index):\n",
        "    if index<0 or index>=len(arr):\n",
        "        return 'Not possible'\n",
        "    arr[index] = 0\n",
        "    for i in range(index, size-1):\n",
        "        arr[i] = arr[i+1]\n",
        "    arr[size-1] = 0\n",
        "    return arr\n",
        "\n",
        "\n",
        "a = np.array([1, 2, 3, 4, 5])\n",
        "print(elem_inbetween(a, 5, 1))"
      ],
      "metadata": {
        "colab": {
          "base_uri": "https://localhost:8080/"
        },
        "id": "pt83dKV7_aKs",
        "outputId": "bdef72ad-6096-4869-d2d0-8faec3daa23a"
      },
      "execution_count": 161,
      "outputs": [
        {
          "output_type": "stream",
          "name": "stdout",
          "text": [
            "[1 3 4 5 0]\n"
          ]
        }
      ]
    },
    {
      "cell_type": "code",
      "source": [
        "def elem_remv(arr, index, size):\n",
        "    if index<0 or index>=len(arr):\n",
        "        return 'Not possible'\n",
        "    arr[index] = 0\n",
        "    for i in range(index, len(arr)-1):\n",
        "        arr[i] = arr[i+1]\n",
        "    arr[size-1] = 0\n",
        "    return arr\n",
        "\n",
        "arr = np.array([1, 2, 3, 4, 5])\n",
        "print(elem_remv(arr, index = 2, size = 5))"
      ],
      "metadata": {
        "id": "faDCDecqEyEW",
        "colab": {
          "base_uri": "https://localhost:8080/"
        },
        "outputId": "783597cd-8fd7-4b71-c1d9-a3bbe7d16421"
      },
      "execution_count": 162,
      "outputs": [
        {
          "output_type": "stream",
          "name": "stdout",
          "text": [
            "[1 2 4 5 0]\n"
          ]
        }
      ]
    },
    {
      "cell_type": "code",
      "source": [
        "# Sorting array\n",
        "# small to big\n",
        "\n",
        "def small_to_big(arr):\n",
        "    for i in range(len(arr)-1):         # ***This (len-1) is so important***\n",
        "        min = arr[i]\n",
        "        for j in range(i+1, len(arr)):\n",
        "            if arr[j]<min:\n",
        "                min = arr[j]\n",
        "                indx = j\n",
        "        arr[i], arr[indx] = min, arr[i]\n",
        "    return arr\n",
        "arr = np.array([5, 3, 6, 8, 2, 0, -1, -2])\n",
        "print(small_to_big(arr))"
      ],
      "metadata": {
        "colab": {
          "base_uri": "https://localhost:8080/"
        },
        "id": "OgopflreL5en",
        "outputId": "3afe444b-52fc-43bb-b091-51db8b762f44"
      },
      "execution_count": 163,
      "outputs": [
        {
          "output_type": "stream",
          "name": "stdout",
          "text": [
            "[-2 -1  0  2  3  5  6  8]\n"
          ]
        }
      ]
    },
    {
      "cell_type": "code",
      "source": [
        "def small_to_bg(arr):\n",
        "    for i in range(len(arr)-1):\n",
        "        min = arr[i]\n",
        "        for j in range(i+1, len(arr)):\n",
        "            if arr[j]<min:\n",
        "                min = arr[j]\n",
        "                indx = j\n",
        "        arr[i], arr[indx] = min, arr[i]\n",
        "        print(arr)\n",
        "    return arr\n",
        "\n",
        "a = np.array([1, 0, 4, 2, -1, -5, 7])\n",
        "print(small_to_bg(a))"
      ],
      "metadata": {
        "colab": {
          "base_uri": "https://localhost:8080/"
        },
        "id": "bLJWMLGOQOyv",
        "outputId": "c861f464-6a3f-4b14-c3ed-bb3076ea093d"
      },
      "execution_count": 183,
      "outputs": [
        {
          "output_type": "stream",
          "name": "stdout",
          "text": [
            "[-5  0  4  2 -1  1  7]\n",
            "[-5 -1  4  2  0  1  7]\n",
            "[-5 -1  0  2  4  1  7]\n",
            "[-5 -1  0  1  4  2  7]\n",
            "[-5 -1  0  1  2  4  7]\n",
            "[-5 -1  0  1  2  4  7]\n",
            "[-5 -1  0  1  2  4  7]\n"
          ]
        }
      ]
    },
    {
      "cell_type": "markdown",
      "source": [
        "# **Multidimensional Array**\n",
        "\n",
        "*   2D Array\n",
        "*   3D Array\n",
        "\n",
        "\n",
        "*   There could be more dimensional array too\n",
        "\n",
        "\n",
        "*   Dimensions have to be fixed\n",
        "\n",
        "\n",
        "\n",
        "\n",
        "\n",
        "\n",
        "\n"
      ],
      "metadata": {
        "id": "_dCxrAEIycBD"
      }
    },
    {
      "cell_type": "code",
      "source": [
        "# Initialization\n",
        "\n",
        "arr = np.array([[1, 2, 3], [4, 5, 6]])\n",
        "print(arr)"
      ],
      "metadata": {
        "id": "LE3yppk2lPL1",
        "colab": {
          "base_uri": "https://localhost:8080/"
        },
        "outputId": "31548595-7f67-4dcf-d55c-26fb9b3286c6"
      },
      "execution_count": 165,
      "outputs": [
        {
          "output_type": "stream",
          "name": "stdout",
          "text": [
            "[[1 2 3]\n",
            " [4 5 6]]\n"
          ]
        }
      ]
    },
    {
      "cell_type": "code",
      "source": [
        "# Another way of initialization\n",
        "\n",
        "m = np.zeros((3,2), dtype=int)      # same as linear array\n",
        "print(m)"
      ],
      "metadata": {
        "id": "fZApm92xM1gK",
        "colab": {
          "base_uri": "https://localhost:8080/"
        },
        "outputId": "bfbc6bcb-99ce-424d-8223-6157dcb1ca63"
      },
      "execution_count": 166,
      "outputs": [
        {
          "output_type": "stream",
          "name": "stdout",
          "text": [
            "[[0 0]\n",
            " [0 0]\n",
            " [0 0]]\n"
          ]
        }
      ]
    },
    {
      "cell_type": "code",
      "source": [
        "# row = length of outer array\n",
        "print(f'Row: {len(arr)}')\n",
        "\n",
        "# column = length of inner array\n",
        "print(f'Column: {len(arr[0])}')\n"
      ],
      "metadata": {
        "id": "qKQ2lou92PuU",
        "colab": {
          "base_uri": "https://localhost:8080/"
        },
        "outputId": "c2e637ae-77cb-4ac7-bf42-c6da9f5d842d"
      },
      "execution_count": 167,
      "outputs": [
        {
          "output_type": "stream",
          "name": "stdout",
          "text": [
            "Row: 2\n",
            "Column: 3\n"
          ]
        }
      ]
    },
    {
      "cell_type": "code",
      "source": [
        "# another way of finding row and column\n",
        "\n",
        "row, column = arr.shape     # This gives a tuple\n",
        "print(row, column)          # The 1st one is row & the 2nd one is column"
      ],
      "metadata": {
        "id": "o4re70Td6MFm",
        "colab": {
          "base_uri": "https://localhost:8080/"
        },
        "outputId": "034f45c3-abbb-4cda-bc64-5392577a996c"
      },
      "execution_count": 168,
      "outputs": [
        {
          "output_type": "stream",
          "name": "stdout",
          "text": [
            "2 3\n"
          ]
        }
      ]
    },
    {
      "cell_type": "code",
      "source": [
        "# Iteration         # row print also\n",
        "\n",
        "arr = np.array([[1, 2, 3], [4, 5, 6]])\n",
        "for i in range(len(arr)):\n",
        "    for j in range(len(arr[0])):\n",
        "        print(arr[i][j])"
      ],
      "metadata": {
        "id": "IVcusg7w2htA",
        "colab": {
          "base_uri": "https://localhost:8080/"
        },
        "outputId": "1063936a-36b9-439a-a03d-a90e1a57309c"
      },
      "execution_count": 169,
      "outputs": [
        {
          "output_type": "stream",
          "name": "stdout",
          "text": [
            "1\n",
            "2\n",
            "3\n",
            "4\n",
            "5\n",
            "6\n"
          ]
        }
      ]
    },
    {
      "cell_type": "code",
      "source": [
        "# column print\n",
        "\n",
        "m = np.array([[1, 2, 3], [4, 5, 6]])\n",
        "print(m)\n",
        "\n",
        "def column_print(m):\n",
        "    r, c = m.shape\n",
        "    for i in range(c):\n",
        "        for j in range(r):\n",
        "            print(m[j][i])\n",
        "\n",
        "column_print(m)"
      ],
      "metadata": {
        "id": "fRf4nhFm4n-e",
        "colab": {
          "base_uri": "https://localhost:8080/"
        },
        "outputId": "f6c69a79-eb14-413c-8382-59b7960583c3"
      },
      "execution_count": 170,
      "outputs": [
        {
          "output_type": "stream",
          "name": "stdout",
          "text": [
            "[[1 2 3]\n",
            " [4 5 6]]\n",
            "1\n",
            "4\n",
            "2\n",
            "5\n",
            "3\n",
            "6\n"
          ]
        }
      ]
    },
    {
      "cell_type": "code",
      "source": [
        "\n",
        "m = np.array([[1, 2, 3], [4, 5, 6]])\n",
        "for i in range(len(m[0])):\n",
        "    for j in range(len(m)):\n",
        "        print(m[j][i])"
      ],
      "metadata": {
        "id": "DOLTlEI3AWwu",
        "colab": {
          "base_uri": "https://localhost:8080/"
        },
        "outputId": "00666a36-7ebe-4c45-c4c7-0e97ca51774f"
      },
      "execution_count": 171,
      "outputs": [
        {
          "output_type": "stream",
          "name": "stdout",
          "text": [
            "1\n",
            "4\n",
            "2\n",
            "5\n",
            "3\n",
            "6\n"
          ]
        }
      ]
    },
    {
      "cell_type": "code",
      "source": [
        "# Add 2 matrix\n",
        "\n",
        "def add_matrix(m, n):\n",
        "    if m.shape != n.shape:\n",
        "        return 'Not possible'\n",
        "    for i in range(len(m)):\n",
        "        for j in range(len(m[0])):\n",
        "            m[i][j] += n[i][j]\n",
        "    return m\n",
        "\n",
        "a = np.array([[1,2,3], [4,5,6]])\n",
        "b = np.array([[1,1,1], [1,1,1]])\n",
        "print(add_matrix(a, b))\n",
        "print(a)"
      ],
      "metadata": {
        "id": "hlSacGnjEy9s",
        "colab": {
          "base_uri": "https://localhost:8080/"
        },
        "outputId": "7b909482-ea61-43e5-f884-6ec33776fcce"
      },
      "execution_count": 172,
      "outputs": [
        {
          "output_type": "stream",
          "name": "stdout",
          "text": [
            "[[2 3 4]\n",
            " [5 6 7]]\n",
            "[[2 3 4]\n",
            " [5 6 7]]\n"
          ]
        }
      ]
    },
    {
      "cell_type": "code",
      "source": [
        "# Short way of adding. It's one of the advantages of numpy\n",
        "\n",
        "a = np.array([[1,2,3], [4,5,6]])\n",
        "b = np.array([[1,1,1], [1,1,1]])\n",
        "print(a+b)"
      ],
      "metadata": {
        "colab": {
          "base_uri": "https://localhost:8080/"
        },
        "id": "LYt4kczgs8Li",
        "outputId": "1088d9e2-a2f4-42d7-d285-8ecff9b27c6c"
      },
      "execution_count": 173,
      "outputs": [
        {
          "output_type": "stream",
          "name": "stdout",
          "text": [
            "[[2 3 4]\n",
            " [5 6 7]]\n"
          ]
        }
      ]
    },
    {
      "cell_type": "code",
      "source": [
        "# You can change value by doing this short way too.\n",
        "\n",
        "a = np.array([[1,2,3], [4,5,6]])\n",
        "print(a*10)"
      ],
      "metadata": {
        "colab": {
          "base_uri": "https://localhost:8080/"
        },
        "id": "XJq6ZdsOtKy8",
        "outputId": "4b88b9af-f653-4bc6-df7f-bf68eca622de"
      },
      "execution_count": 174,
      "outputs": [
        {
          "output_type": "stream",
          "name": "stdout",
          "text": [
            "[[10 20 30]\n",
            " [40 50 60]]\n"
          ]
        }
      ]
    },
    {
      "cell_type": "code",
      "source": [
        "# Multiplication of two 2D Array\n",
        "                                                           # This one is hard:)\n",
        "\"\"\" The result of these arrays is:\n",
        "    [19 22]\n",
        "    [43 50] \"\"\"\n",
        "\n",
        "# The length of the result array will be (row of 1st array) x (column of 2nd array)\n",
        "\n",
        "\"\"\" The condition is: (column of 1st array) == (row of 2nd array).\n",
        "    otherwise the multiplication won't be possible. \"\"\"\n",
        "\n",
        "\n",
        "def multiplication(m, n):\n",
        "    rm, cm = m.shape\n",
        "    rn, cn = n.shape\n",
        "    if cm != rn:\n",
        "        return 'error'\n",
        "    new_arr = np.zeros((rm, cn), int)\n",
        "    for i in range(rm):\n",
        "        for j in range(cn):\n",
        "            for k in range(cm):             #this one is the index of new_arr\n",
        "                new_arr[i][j] += m[i][k]*n[k][j]\n",
        "    return new_arr\n",
        "\n",
        "m = np.array([[1,2], [3,4]])\n",
        "n = np.array([[5,6], [7,8]])\n",
        "print(multiplication(m, n))\n",
        "print()\n",
        "m1 = np.array([[3,1,2]])\n",
        "n1 = np.array([[2,1], [1,2], [4,7]])\n",
        "print(multiplication(m1, n1))"
      ],
      "metadata": {
        "colab": {
          "base_uri": "https://localhost:8080/"
        },
        "id": "OpOn2e2N7zxk",
        "outputId": "3c802f51-9358-481b-efe6-03cce47b2f42"
      },
      "execution_count": 175,
      "outputs": [
        {
          "output_type": "stream",
          "name": "stdout",
          "text": [
            "[[19 22]\n",
            " [43 50]]\n",
            "\n",
            "[[15 19]]\n"
          ]
        }
      ]
    },
    {
      "cell_type": "code",
      "source": [
        "# find sum of selected row and column\n",
        "# this one is (5)+(3+1)+(1+2+1)\n",
        "\n",
        "def find_sum(m):\n",
        "    sum = 0\n",
        "    for i in range(len(m)):\n",
        "        for j in range(i+1):\n",
        "            sum += m[i][j]\n",
        "    return sum\n",
        "\n",
        "m = np.array([[5,2,1], [3,1,2], [1,2,1]])\n",
        "print(find_sum(m))"
      ],
      "metadata": {
        "id": "mRkLS-ADAY69",
        "colab": {
          "base_uri": "https://localhost:8080/"
        },
        "outputId": "90313a7c-9c39-49b0-9a48-5847c06d7d5c"
      },
      "execution_count": 176,
      "outputs": [
        {
          "output_type": "stream",
          "name": "stdout",
          "text": [
            "13\n"
          ]
        }
      ]
    },
    {
      "cell_type": "code",
      "source": [
        "# sum of every row\n",
        "\n",
        "def sum_row_wise(m):\n",
        "    r, c = m.shape\n",
        "    result = np.zeros((r, 1), int)\n",
        "    for i in range(r):\n",
        "        for j in range(c):\n",
        "            result[i][0] += m[i][j]\n",
        "    return result\n",
        "\n",
        "m = np.array([[4,3,8], [2,5,1], [7,-1,9]])\n",
        "print(sum_row_wise(m))"
      ],
      "metadata": {
        "colab": {
          "base_uri": "https://localhost:8080/"
        },
        "id": "42iG0rRSbTW1",
        "outputId": "e942cfbc-b7b5-4ffc-c2a7-6d10b058de7b"
      },
      "execution_count": 198,
      "outputs": [
        {
          "output_type": "stream",
          "name": "stdout",
          "text": [
            "[[15]\n",
            " [ 8]\n",
            " [15]]\n"
          ]
        }
      ]
    },
    {
      "cell_type": "code",
      "source": [
        "# Swap the column of a matrix\n",
        "\n",
        "def swap_column(m):\n",
        "    r, c = m.shape\n",
        "    for i in range(r-1):\n",
        "        for j in range(c//2):\n",
        "            m[i][j], m[i][c-j-1] = m[i][c-j-1], m[i][j]\n",
        "    return m\n",
        "\n",
        "m = np.array([[4,3,8], [2,5,-1], [-6,16,9], [4,13,11]])\n",
        "print(swap_column(m))"
      ],
      "metadata": {
        "colab": {
          "base_uri": "https://localhost:8080/"
        },
        "id": "09u1rrLnhTQZ",
        "outputId": "d2d54a98-9af4-43f4-eeac-117c60f2c99a"
      },
      "execution_count": 200,
      "outputs": [
        {
          "output_type": "stream",
          "name": "stdout",
          "text": [
            "[[ 8  3  4]\n",
            " [-1  5  2]\n",
            " [ 9 16 -6]\n",
            " [ 4 13 11]]\n"
          ]
        }
      ]
    },
    {
      "cell_type": "code",
      "source": [
        "# sum of the elements of (primary diagonal) in a (square matrix)\n",
        "# meaning here it is 4+5+9\n",
        "\n",
        "def sum(arr):\n",
        "    sum = 0\n",
        "    r, c = arr.shape\n",
        "    if r!=c:\n",
        "        return 'error'\n",
        "    for i in range(r):\n",
        "        sum += arr[i][i]\n",
        "    return sum\n",
        "\n",
        "m = np.array([[4,3,8], [2,5,1], [7,6,9]])\n",
        "print(m)\n",
        "print(sum(m))"
      ],
      "metadata": {
        "colab": {
          "base_uri": "https://localhost:8080/"
        },
        "id": "RPa6XAY_jFQZ",
        "outputId": "e12cf7ee-1c0e-4ec5-9a17-402967914769"
      },
      "execution_count": 202,
      "outputs": [
        {
          "output_type": "stream",
          "name": "stdout",
          "text": [
            "[[4 3 8]\n",
            " [2 5 1]\n",
            " [7 6 9]]\n",
            "18\n"
          ]
        }
      ]
    },
    {
      "cell_type": "code",
      "source": [
        "# sum of the elements of (secondary diagonal) in a (square matrix)\n",
        "# meaning here it is 8+5+7\n",
        "\n",
        "def summ(m):\n",
        "    r, c = m.shape\n",
        "    if r!=c:\n",
        "        return 'error'\n",
        "    sum = 0\n",
        "    for i in range(r):\n",
        "        sum += m[i][r-i-1]\n",
        "    return sum\n",
        "\n",
        "m = np.array([[4,3,8], [2,5,1], [7,6,9]])\n",
        "print(m)\n",
        "print(summ(m))"
      ],
      "metadata": {
        "colab": {
          "base_uri": "https://localhost:8080/"
        },
        "id": "cqVg1bbAkvnJ",
        "outputId": "077c0d77-4ce5-4fce-f2f6-40f5c16ffdb3"
      },
      "execution_count": 203,
      "outputs": [
        {
          "output_type": "stream",
          "name": "stdout",
          "text": [
            "[[4 3 8]\n",
            " [2 5 1]\n",
            " [7 6 9]]\n",
            "20\n"
          ]
        }
      ]
    },
    {
      "cell_type": "markdown",
      "source": [
        "# ***Short Questions***\n",
        "\n",
        "1. **How to find dimension index of linear index**\n",
        "\n",
        "    Que : Suppose a linear array of length 128 actually stores a 3D array of dimensions 4x4x8.\n",
        "    What are the multidimensional indexes of the element stored at location 111?\n",
        "\n",
        "    Ans :\n",
        "\n",
        "    x = 111 // (4x8) = 3\n",
        "\n",
        "    111 % (4x8) = 15\n",
        "\n",
        "    y = 15 // 8 = 1\n",
        "\n",
        "    15 % 8 = 7\n",
        "\n",
        "    z = 7 // 1 = 7\n",
        "\n",
        "    So the answer is [3][1][7]\n",
        "    \n",
        "    ---\n",
        "    vice versa\n",
        "\n",
        "    Linear index = 3x4x8 + 1x8 + 7 = 111\n",
        "    \n",
        "    So the answer is 111"
      ],
      "metadata": {
        "id": "dSSCbhvZRLO1"
      }
    }
  ]
}